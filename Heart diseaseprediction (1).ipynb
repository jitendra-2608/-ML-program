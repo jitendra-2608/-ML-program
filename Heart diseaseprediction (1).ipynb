{
 "cells": [
  {
   "cell_type": "code",
   "execution_count": 1,
   "id": "5df1d8bf-e789-4c91-a063-def34eba76d6",
   "metadata": {},
   "outputs": [
    {
     "data": {
      "text/html": [
       "<div>\n",
       "<style scoped>\n",
       "    .dataframe tbody tr th:only-of-type {\n",
       "        vertical-align: middle;\n",
       "    }\n",
       "\n",
       "    .dataframe tbody tr th {\n",
       "        vertical-align: top;\n",
       "    }\n",
       "\n",
       "    .dataframe thead th {\n",
       "        text-align: right;\n",
       "    }\n",
       "</style>\n",
       "<table border=\"1\" class=\"dataframe\">\n",
       "  <thead>\n",
       "    <tr style=\"text-align: right;\">\n",
       "      <th></th>\n",
       "      <th>male</th>\n",
       "      <th>age</th>\n",
       "      <th>education</th>\n",
       "      <th>currentSmoker</th>\n",
       "      <th>cigsPerDay</th>\n",
       "      <th>BPMeds</th>\n",
       "      <th>prevalentStroke</th>\n",
       "      <th>prevalentHyp</th>\n",
       "      <th>diabetes</th>\n",
       "      <th>totChol</th>\n",
       "      <th>sysBP</th>\n",
       "      <th>diaBP</th>\n",
       "      <th>BMI</th>\n",
       "      <th>heartRate</th>\n",
       "      <th>glucose</th>\n",
       "      <th>TenYearCHD</th>\n",
       "    </tr>\n",
       "  </thead>\n",
       "  <tbody>\n",
       "    <tr>\n",
       "      <th>0</th>\n",
       "      <td>1</td>\n",
       "      <td>39</td>\n",
       "      <td>4.0</td>\n",
       "      <td>0</td>\n",
       "      <td>0.0</td>\n",
       "      <td>0.0</td>\n",
       "      <td>0</td>\n",
       "      <td>0</td>\n",
       "      <td>0</td>\n",
       "      <td>195.0</td>\n",
       "      <td>106.0</td>\n",
       "      <td>70.0</td>\n",
       "      <td>26.97</td>\n",
       "      <td>80.0</td>\n",
       "      <td>77.0</td>\n",
       "      <td>0</td>\n",
       "    </tr>\n",
       "    <tr>\n",
       "      <th>1</th>\n",
       "      <td>0</td>\n",
       "      <td>46</td>\n",
       "      <td>2.0</td>\n",
       "      <td>0</td>\n",
       "      <td>0.0</td>\n",
       "      <td>0.0</td>\n",
       "      <td>0</td>\n",
       "      <td>0</td>\n",
       "      <td>0</td>\n",
       "      <td>250.0</td>\n",
       "      <td>121.0</td>\n",
       "      <td>81.0</td>\n",
       "      <td>28.73</td>\n",
       "      <td>95.0</td>\n",
       "      <td>76.0</td>\n",
       "      <td>0</td>\n",
       "    </tr>\n",
       "    <tr>\n",
       "      <th>2</th>\n",
       "      <td>1</td>\n",
       "      <td>48</td>\n",
       "      <td>1.0</td>\n",
       "      <td>1</td>\n",
       "      <td>20.0</td>\n",
       "      <td>0.0</td>\n",
       "      <td>0</td>\n",
       "      <td>0</td>\n",
       "      <td>0</td>\n",
       "      <td>245.0</td>\n",
       "      <td>127.5</td>\n",
       "      <td>80.0</td>\n",
       "      <td>25.34</td>\n",
       "      <td>75.0</td>\n",
       "      <td>70.0</td>\n",
       "      <td>0</td>\n",
       "    </tr>\n",
       "    <tr>\n",
       "      <th>3</th>\n",
       "      <td>0</td>\n",
       "      <td>61</td>\n",
       "      <td>3.0</td>\n",
       "      <td>1</td>\n",
       "      <td>30.0</td>\n",
       "      <td>0.0</td>\n",
       "      <td>0</td>\n",
       "      <td>1</td>\n",
       "      <td>0</td>\n",
       "      <td>225.0</td>\n",
       "      <td>150.0</td>\n",
       "      <td>95.0</td>\n",
       "      <td>28.58</td>\n",
       "      <td>65.0</td>\n",
       "      <td>103.0</td>\n",
       "      <td>1</td>\n",
       "    </tr>\n",
       "    <tr>\n",
       "      <th>4</th>\n",
       "      <td>0</td>\n",
       "      <td>46</td>\n",
       "      <td>3.0</td>\n",
       "      <td>1</td>\n",
       "      <td>23.0</td>\n",
       "      <td>0.0</td>\n",
       "      <td>0</td>\n",
       "      <td>0</td>\n",
       "      <td>0</td>\n",
       "      <td>285.0</td>\n",
       "      <td>130.0</td>\n",
       "      <td>84.0</td>\n",
       "      <td>23.10</td>\n",
       "      <td>85.0</td>\n",
       "      <td>85.0</td>\n",
       "      <td>0</td>\n",
       "    </tr>\n",
       "  </tbody>\n",
       "</table>\n",
       "</div>"
      ],
      "text/plain": [
       "   male  age  education  currentSmoker  cigsPerDay  BPMeds  prevalentStroke  \\\n",
       "0     1   39        4.0              0         0.0     0.0                0   \n",
       "1     0   46        2.0              0         0.0     0.0                0   \n",
       "2     1   48        1.0              1        20.0     0.0                0   \n",
       "3     0   61        3.0              1        30.0     0.0                0   \n",
       "4     0   46        3.0              1        23.0     0.0                0   \n",
       "\n",
       "   prevalentHyp  diabetes  totChol  sysBP  diaBP    BMI  heartRate  glucose  \\\n",
       "0             0         0    195.0  106.0   70.0  26.97       80.0     77.0   \n",
       "1             0         0    250.0  121.0   81.0  28.73       95.0     76.0   \n",
       "2             0         0    245.0  127.5   80.0  25.34       75.0     70.0   \n",
       "3             1         0    225.0  150.0   95.0  28.58       65.0    103.0   \n",
       "4             0         0    285.0  130.0   84.0  23.10       85.0     85.0   \n",
       "\n",
       "   TenYearCHD  \n",
       "0           0  \n",
       "1           0  \n",
       "2           0  \n",
       "3           1  \n",
       "4           0  "
      ]
     },
     "execution_count": 1,
     "metadata": {},
     "output_type": "execute_result"
    }
   ],
   "source": [
    "import pandas as pd\n",
    "import warnings\n",
    "warnings.filterwarnings('ignore')\n",
    "\n",
    "df =pd.read_csv(r'C:\\Users\\redmi\\Downloads\\datasets_4123_6408_framingham.csv')\n",
    "df.head()"
   ]
  },
  {
   "cell_type": "code",
   "execution_count": 2,
   "id": "3ec324d4-4e0b-4efe-b875-b967d905a434",
   "metadata": {},
   "outputs": [
    {
     "data": {
      "text/plain": [
       "(4240, 16)"
      ]
     },
     "execution_count": 2,
     "metadata": {},
     "output_type": "execute_result"
    }
   ],
   "source": [
    "df.shape\n"
   ]
  },
  {
   "cell_type": "code",
   "execution_count": 3,
   "id": "e7db8e17-3bba-4a2a-8083-2c036259ee46",
   "metadata": {},
   "outputs": [],
   "source": [
    "df.drop('education',axis =1,inplace=True)"
   ]
  },
  {
   "cell_type": "code",
   "execution_count": 4,
   "id": "c8863230-2e0e-4b80-8312-5f007024c5d6",
   "metadata": {},
   "outputs": [
    {
     "data": {
      "text/plain": [
       "male                 0\n",
       "age                  0\n",
       "currentSmoker        0\n",
       "cigsPerDay          29\n",
       "BPMeds              53\n",
       "prevalentStroke      0\n",
       "prevalentHyp         0\n",
       "diabetes             0\n",
       "totChol             50\n",
       "sysBP                0\n",
       "diaBP                0\n",
       "BMI                 19\n",
       "heartRate            1\n",
       "glucose            388\n",
       "TenYearCHD           0\n",
       "dtype: int64"
      ]
     },
     "execution_count": 4,
     "metadata": {},
     "output_type": "execute_result"
    }
   ],
   "source": [
    "df.isnull().sum()"
   ]
  },
  {
   "cell_type": "code",
   "execution_count": 5,
   "id": "ae80762b-9689-41ce-bb30-d9316e0caf0c",
   "metadata": {},
   "outputs": [],
   "source": [
    "#define the binary columns\n",
    "bin_cols =[\"male\",\"currentSmoker\",\"prevalentHyp\",\"diabetes\"]\n",
    "#fill missing value for binary fetures with the most frequent value(mode)\n",
    "for col in bin_cols:\n",
    "   mode_val = df[col].mode()[0]\n",
    "   df[col].fillna(mode_val, inplace=True)"
   ]
  },
  {
   "cell_type": "code",
   "execution_count": 6,
   "id": "062590eb-f4c3-4a6f-8b03-9c6eff82072e",
   "metadata": {},
   "outputs": [
    {
     "data": {
      "text/plain": [
       "male                 0\n",
       "age                  0\n",
       "currentSmoker        0\n",
       "cigsPerDay          29\n",
       "BPMeds              53\n",
       "prevalentStroke      0\n",
       "prevalentHyp         0\n",
       "diabetes             0\n",
       "totChol             50\n",
       "sysBP                0\n",
       "diaBP                0\n",
       "BMI                 19\n",
       "heartRate            1\n",
       "glucose            388\n",
       "TenYearCHD           0\n",
       "dtype: int64"
      ]
     },
     "execution_count": 6,
     "metadata": {},
     "output_type": "execute_result"
    }
   ],
   "source": [
    "df.isnull().sum()"
   ]
  },
  {
   "cell_type": "code",
   "execution_count": 7,
   "id": "2a95ea46-4daa-47e0-ac85-7bded024d3e2",
   "metadata": {},
   "outputs": [],
   "source": [
    "import numpy as np\n",
    "#fill missing values for numeric features \n",
    "numeric_cols =[\"cigsPerDay\",\"BPMeds\",\"totChol\",\"BMI\",\"heartRate\",\"glucose\"]\n",
    "for col in numeric_cols:\n",
    "    median_val =df[col].median()\n",
    "    df[col].fillna(median_val,inplace=True)"
   ]
  },
  {
   "cell_type": "code",
   "execution_count": 8,
   "id": "75aa93e9-ffa6-4354-b0c6-881bf4a183d9",
   "metadata": {},
   "outputs": [
    {
     "data": {
      "text/plain": [
       "male               0\n",
       "age                0\n",
       "currentSmoker      0\n",
       "cigsPerDay         0\n",
       "BPMeds             0\n",
       "prevalentStroke    0\n",
       "prevalentHyp       0\n",
       "diabetes           0\n",
       "totChol            0\n",
       "sysBP              0\n",
       "diaBP              0\n",
       "BMI                0\n",
       "heartRate          0\n",
       "glucose            0\n",
       "TenYearCHD         0\n",
       "dtype: int64"
      ]
     },
     "execution_count": 8,
     "metadata": {},
     "output_type": "execute_result"
    }
   ],
   "source": [
    "df.isnull().sum()"
   ]
  },
  {
   "cell_type": "code",
   "execution_count": 9,
   "id": "b6269140-aef8-45b8-a72f-c509c7297048",
   "metadata": {},
   "outputs": [
    {
     "data": {
      "text/plain": [
       "TenYearCHD\n",
       "0    3596\n",
       "1     644\n",
       "Name: count, dtype: int64"
      ]
     },
     "execution_count": 9,
     "metadata": {},
     "output_type": "execute_result"
    }
   ],
   "source": [
    "df['TenYearCHD'].value_counts()"
   ]
  },
  {
   "cell_type": "code",
   "execution_count": 10,
   "id": "472beefb-a26f-4d5c-b1fd-80ae7f337444",
   "metadata": {},
   "outputs": [],
   "source": [
    "from sklearn.utils import resample\n",
    "# separate majority and minority classes\n",
    "df_majority =df[df['TenYearCHD']==0]\n",
    "df_minority =df[df['TenYearCHD']==1]\n",
    "df_minority_upsampled =resample(df_minority,\n",
    "                                 replace=True,\n",
    "                                 n_samples=len(df_majority),\n",
    "                                 random_state=42)\n",
    "\n",
    "df_balanced= pd.concat([df_majority,df_minority_upsampled])"
   ]
  },
  {
   "cell_type": "code",
   "execution_count": 11,
   "id": "876368bb-7ba7-477b-998f-9aba8426ef54",
   "metadata": {},
   "outputs": [
    {
     "data": {
      "text/plain": [
       "TenYearCHD\n",
       "0    3596\n",
       "1    3596\n",
       "Name: count, dtype: int64"
      ]
     },
     "execution_count": 11,
     "metadata": {},
     "output_type": "execute_result"
    }
   ],
   "source": [
    "df_balanced['TenYearCHD'].value_counts()"
   ]
  },
  {
   "cell_type": "code",
   "execution_count": 12,
   "id": "ffd66cac-39b0-4ba4-8616-41197f51da19",
   "metadata": {},
   "outputs": [],
   "source": [
    "from sklearn.model_selection import train_test_split\n",
    "from sklearn.preprocessing import StandardScaler\n",
    "#separate features (x) and target variable(y)\n",
    "X =df_balanced.drop(columns =['TenYearCHD'])\n",
    "y =df_balanced['TenYearCHD']\n",
    "\n",
    "#spilt the data into tarining and testing sets (80% train and 20% test)\n",
    "X_train,X_test,y_train,y_test = train_test_split(X,y,test_size=0.2,random_state=42)"
   ]
  },
  {
   "cell_type": "code",
   "execution_count": 13,
   "id": "03e36912-2419-4535-9e7d-77b5bd990f8a",
   "metadata": {},
   "outputs": [
    {
     "data": {
      "text/html": [
       "<div>\n",
       "<style scoped>\n",
       "    .dataframe tbody tr th:only-of-type {\n",
       "        vertical-align: middle;\n",
       "    }\n",
       "\n",
       "    .dataframe tbody tr th {\n",
       "        vertical-align: top;\n",
       "    }\n",
       "\n",
       "    .dataframe thead th {\n",
       "        text-align: right;\n",
       "    }\n",
       "</style>\n",
       "<table border=\"1\" class=\"dataframe\">\n",
       "  <thead>\n",
       "    <tr style=\"text-align: right;\">\n",
       "      <th></th>\n",
       "      <th>male</th>\n",
       "      <th>age</th>\n",
       "      <th>currentSmoker</th>\n",
       "      <th>cigsPerDay</th>\n",
       "      <th>BPMeds</th>\n",
       "      <th>prevalentStroke</th>\n",
       "      <th>prevalentHyp</th>\n",
       "      <th>diabetes</th>\n",
       "      <th>totChol</th>\n",
       "      <th>sysBP</th>\n",
       "      <th>diaBP</th>\n",
       "      <th>BMI</th>\n",
       "      <th>heartRate</th>\n",
       "      <th>glucose</th>\n",
       "    </tr>\n",
       "  </thead>\n",
       "  <tbody>\n",
       "    <tr>\n",
       "      <th>1905</th>\n",
       "      <td>0</td>\n",
       "      <td>64</td>\n",
       "      <td>0</td>\n",
       "      <td>0.0</td>\n",
       "      <td>0.0</td>\n",
       "      <td>0</td>\n",
       "      <td>1</td>\n",
       "      <td>0</td>\n",
       "      <td>229.0</td>\n",
       "      <td>145.0</td>\n",
       "      <td>85.0</td>\n",
       "      <td>29.67</td>\n",
       "      <td>70.0</td>\n",
       "      <td>74.0</td>\n",
       "    </tr>\n",
       "    <tr>\n",
       "      <th>2075</th>\n",
       "      <td>0</td>\n",
       "      <td>37</td>\n",
       "      <td>1</td>\n",
       "      <td>20.0</td>\n",
       "      <td>0.0</td>\n",
       "      <td>0</td>\n",
       "      <td>0</td>\n",
       "      <td>0</td>\n",
       "      <td>166.0</td>\n",
       "      <td>112.0</td>\n",
       "      <td>73.5</td>\n",
       "      <td>21.64</td>\n",
       "      <td>75.0</td>\n",
       "      <td>93.0</td>\n",
       "    </tr>\n",
       "    <tr>\n",
       "      <th>1128</th>\n",
       "      <td>0</td>\n",
       "      <td>63</td>\n",
       "      <td>1</td>\n",
       "      <td>10.0</td>\n",
       "      <td>0.0</td>\n",
       "      <td>0</td>\n",
       "      <td>1</td>\n",
       "      <td>0</td>\n",
       "      <td>236.0</td>\n",
       "      <td>189.0</td>\n",
       "      <td>103.0</td>\n",
       "      <td>27.91</td>\n",
       "      <td>60.0</td>\n",
       "      <td>74.0</td>\n",
       "    </tr>\n",
       "    <tr>\n",
       "      <th>1782</th>\n",
       "      <td>0</td>\n",
       "      <td>65</td>\n",
       "      <td>0</td>\n",
       "      <td>0.0</td>\n",
       "      <td>0.0</td>\n",
       "      <td>0</td>\n",
       "      <td>1</td>\n",
       "      <td>0</td>\n",
       "      <td>245.0</td>\n",
       "      <td>171.0</td>\n",
       "      <td>89.0</td>\n",
       "      <td>23.07</td>\n",
       "      <td>82.0</td>\n",
       "      <td>93.0</td>\n",
       "    </tr>\n",
       "    <tr>\n",
       "      <th>241</th>\n",
       "      <td>1</td>\n",
       "      <td>65</td>\n",
       "      <td>1</td>\n",
       "      <td>15.0</td>\n",
       "      <td>0.0</td>\n",
       "      <td>0</td>\n",
       "      <td>1</td>\n",
       "      <td>0</td>\n",
       "      <td>219.0</td>\n",
       "      <td>148.0</td>\n",
       "      <td>90.0</td>\n",
       "      <td>29.35</td>\n",
       "      <td>77.0</td>\n",
       "      <td>97.0</td>\n",
       "    </tr>\n",
       "    <tr>\n",
       "      <th>...</th>\n",
       "      <td>...</td>\n",
       "      <td>...</td>\n",
       "      <td>...</td>\n",
       "      <td>...</td>\n",
       "      <td>...</td>\n",
       "      <td>...</td>\n",
       "      <td>...</td>\n",
       "      <td>...</td>\n",
       "      <td>...</td>\n",
       "      <td>...</td>\n",
       "      <td>...</td>\n",
       "      <td>...</td>\n",
       "      <td>...</td>\n",
       "      <td>...</td>\n",
       "    </tr>\n",
       "    <tr>\n",
       "      <th>624</th>\n",
       "      <td>1</td>\n",
       "      <td>63</td>\n",
       "      <td>1</td>\n",
       "      <td>20.0</td>\n",
       "      <td>0.0</td>\n",
       "      <td>0</td>\n",
       "      <td>1</td>\n",
       "      <td>0</td>\n",
       "      <td>269.0</td>\n",
       "      <td>180.0</td>\n",
       "      <td>101.0</td>\n",
       "      <td>24.42</td>\n",
       "      <td>72.0</td>\n",
       "      <td>84.0</td>\n",
       "    </tr>\n",
       "    <tr>\n",
       "      <th>485</th>\n",
       "      <td>1</td>\n",
       "      <td>54</td>\n",
       "      <td>1</td>\n",
       "      <td>40.0</td>\n",
       "      <td>0.0</td>\n",
       "      <td>0</td>\n",
       "      <td>0</td>\n",
       "      <td>0</td>\n",
       "      <td>230.0</td>\n",
       "      <td>145.0</td>\n",
       "      <td>90.0</td>\n",
       "      <td>25.72</td>\n",
       "      <td>75.0</td>\n",
       "      <td>85.0</td>\n",
       "    </tr>\n",
       "    <tr>\n",
       "      <th>4232</th>\n",
       "      <td>1</td>\n",
       "      <td>68</td>\n",
       "      <td>0</td>\n",
       "      <td>0.0</td>\n",
       "      <td>0.0</td>\n",
       "      <td>0</td>\n",
       "      <td>1</td>\n",
       "      <td>0</td>\n",
       "      <td>176.0</td>\n",
       "      <td>168.0</td>\n",
       "      <td>97.0</td>\n",
       "      <td>23.14</td>\n",
       "      <td>60.0</td>\n",
       "      <td>79.0</td>\n",
       "    </tr>\n",
       "    <tr>\n",
       "      <th>952</th>\n",
       "      <td>1</td>\n",
       "      <td>66</td>\n",
       "      <td>1</td>\n",
       "      <td>30.0</td>\n",
       "      <td>0.0</td>\n",
       "      <td>0</td>\n",
       "      <td>0</td>\n",
       "      <td>1</td>\n",
       "      <td>234.0</td>\n",
       "      <td>114.5</td>\n",
       "      <td>62.5</td>\n",
       "      <td>28.62</td>\n",
       "      <td>75.0</td>\n",
       "      <td>216.0</td>\n",
       "    </tr>\n",
       "    <tr>\n",
       "      <th>1030</th>\n",
       "      <td>1</td>\n",
       "      <td>45</td>\n",
       "      <td>1</td>\n",
       "      <td>20.0</td>\n",
       "      <td>0.0</td>\n",
       "      <td>0</td>\n",
       "      <td>0</td>\n",
       "      <td>1</td>\n",
       "      <td>279.0</td>\n",
       "      <td>138.0</td>\n",
       "      <td>86.0</td>\n",
       "      <td>30.63</td>\n",
       "      <td>80.0</td>\n",
       "      <td>144.0</td>\n",
       "    </tr>\n",
       "  </tbody>\n",
       "</table>\n",
       "<p>5753 rows × 14 columns</p>\n",
       "</div>"
      ],
      "text/plain": [
       "      male  age  currentSmoker  cigsPerDay  BPMeds  prevalentStroke  \\\n",
       "1905     0   64              0         0.0     0.0                0   \n",
       "2075     0   37              1        20.0     0.0                0   \n",
       "1128     0   63              1        10.0     0.0                0   \n",
       "1782     0   65              0         0.0     0.0                0   \n",
       "241      1   65              1        15.0     0.0                0   \n",
       "...    ...  ...            ...         ...     ...              ...   \n",
       "624      1   63              1        20.0     0.0                0   \n",
       "485      1   54              1        40.0     0.0                0   \n",
       "4232     1   68              0         0.0     0.0                0   \n",
       "952      1   66              1        30.0     0.0                0   \n",
       "1030     1   45              1        20.0     0.0                0   \n",
       "\n",
       "      prevalentHyp  diabetes  totChol  sysBP  diaBP    BMI  heartRate  glucose  \n",
       "1905             1         0    229.0  145.0   85.0  29.67       70.0     74.0  \n",
       "2075             0         0    166.0  112.0   73.5  21.64       75.0     93.0  \n",
       "1128             1         0    236.0  189.0  103.0  27.91       60.0     74.0  \n",
       "1782             1         0    245.0  171.0   89.0  23.07       82.0     93.0  \n",
       "241              1         0    219.0  148.0   90.0  29.35       77.0     97.0  \n",
       "...            ...       ...      ...    ...    ...    ...        ...      ...  \n",
       "624              1         0    269.0  180.0  101.0  24.42       72.0     84.0  \n",
       "485              0         0    230.0  145.0   90.0  25.72       75.0     85.0  \n",
       "4232             1         0    176.0  168.0   97.0  23.14       60.0     79.0  \n",
       "952              0         1    234.0  114.5   62.5  28.62       75.0    216.0  \n",
       "1030             0         1    279.0  138.0   86.0  30.63       80.0    144.0  \n",
       "\n",
       "[5753 rows x 14 columns]"
      ]
     },
     "execution_count": 13,
     "metadata": {},
     "output_type": "execute_result"
    }
   ],
   "source": [
    "X_train"
   ]
  },
  {
   "cell_type": "code",
   "execution_count": 14,
   "id": "a711504f-5f2f-4355-ade9-035b56f573bb",
   "metadata": {},
   "outputs": [],
   "source": [
    "scaler =StandardScaler()# Initialize standard scaler\n",
    "# fit scalr to traing data  and transfrom both training and testing data\n",
    "X_train_scaled =scaler.fit_transform(X_train)\n",
    "X_test_scaled =scaler.transform(X_test)"
   ]
  },
  {
   "cell_type": "code",
   "execution_count": 15,
   "id": "1e1d457f-51ec-4209-b54a-09edf0d73b95",
   "metadata": {},
   "outputs": [
    {
     "data": {
      "text/plain": [
       "array([[-0.94172615,  1.4582083 , -1.02624378, ...,  0.840088  ,\n",
       "        -0.50731448, -0.34072887],\n",
       "       [-0.94172615, -1.66694628,  0.97442734, ..., -1.050363  ,\n",
       "        -0.0898974 ,  0.25133934],\n",
       "       [-0.94172615,  1.34246184,  0.97442734, ...,  0.42574258,\n",
       "        -1.34214864, -0.34072887],\n",
       "       ...,\n",
       "       [ 1.06187982,  1.92119417, -1.02624378, ..., -0.6972277 ,\n",
       "        -1.34214864, -0.18492145],\n",
       "       [ 1.06187982,  1.68970124,  0.97442734, ...,  0.59289329,\n",
       "        -0.0898974 ,  4.08420194],\n",
       "       [ 1.06187982, -0.74097455,  0.97442734, ...,  1.0660946 ,\n",
       "         0.32751968,  1.84057505]])"
      ]
     },
     "execution_count": 15,
     "metadata": {},
     "output_type": "execute_result"
    }
   ],
   "source": [
    "X_train_scaled"
   ]
  },
  {
   "cell_type": "code",
   "execution_count": 16,
   "id": "f74c46b0-4a98-4790-bc94-a23fef2ec86f",
   "metadata": {},
   "outputs": [],
   "source": [
    "from sklearn.ensemble import RandomForestClassifier\n",
    "\n",
    "rf_model = RandomForestClassifier()\n",
    "\n",
    "rf_model.fit(X_train_scaled,y_train)\n",
    "\n",
    "y_pred = rf_model.predict(X_test_scaled)"
   ]
  },
  {
   "cell_type": "code",
   "execution_count": 17,
   "id": "5d513476-e5bd-412e-b91a-e83a24069bd5",
   "metadata": {},
   "outputs": [],
   "source": [
    "from sklearn.metrics import accuracy_score ,confusion_matrix, classification_report"
   ]
  },
  {
   "cell_type": "code",
   "execution_count": 18,
   "id": "5d256769-1f0f-4f1d-a4e6-c624dbf8f433",
   "metadata": {},
   "outputs": [
    {
     "data": {
      "text/plain": [
       "0.9722029186935371"
      ]
     },
     "execution_count": 18,
     "metadata": {},
     "output_type": "execute_result"
    }
   ],
   "source": [
    "accuracy_score(y_test,y_pred)"
   ]
  },
  {
   "cell_type": "code",
   "execution_count": 19,
   "id": "5c5c80dd-ffde-4584-88df-cce2443a5897",
   "metadata": {},
   "outputs": [
    {
     "data": {
      "text/plain": [
       "array([[700,  35],\n",
       "       [  5, 699]])"
      ]
     },
     "execution_count": 19,
     "metadata": {},
     "output_type": "execute_result"
    }
   ],
   "source": [
    "confusion_matrix(y_test,y_pred)"
   ]
  },
  {
   "cell_type": "code",
   "execution_count": 20,
   "id": "e5492f57-3c85-4e1e-8dac-4ee29d6b1596",
   "metadata": {},
   "outputs": [
    {
     "name": "stdout",
     "output_type": "stream",
     "text": [
      "              precision    recall  f1-score   support\n",
      "\n",
      "           0       0.99      0.95      0.97       735\n",
      "           1       0.95      0.99      0.97       704\n",
      "\n",
      "    accuracy                           0.97      1439\n",
      "   macro avg       0.97      0.97      0.97      1439\n",
      "weighted avg       0.97      0.97      0.97      1439\n",
      "\n"
     ]
    }
   ],
   "source": [
    "print(classification_report(y_test,y_pred))"
   ]
  },
  {
   "cell_type": "code",
   "execution_count": 21,
   "id": "02b800ae-ad62-45e5-8b1a-8650bf579b14",
   "metadata": {},
   "outputs": [
    {
     "name": "stdout",
     "output_type": "stream",
     "text": [
      "Requirement already satisfied: xgboost in c:\\users\\redmi\\anaconda3\\lib\\site-packages (3.0.2)\n",
      "Requirement already satisfied: numpy in c:\\users\\redmi\\anaconda3\\lib\\site-packages (from xgboost) (2.1.3)\n",
      "Requirement already satisfied: scipy in c:\\users\\redmi\\anaconda3\\lib\\site-packages (from xgboost) (1.15.3)\n",
      "Note: you may need to restart the kernel to use updated packages.\n"
     ]
    }
   ],
   "source": [
    "pip install xgboost"
   ]
  },
  {
   "cell_type": "code",
   "execution_count": 22,
   "id": "a716425a-4449-427c-bf93-1b0d0056dcb5",
   "metadata": {},
   "outputs": [],
   "source": [
    "from sklearn.ensemble import RandomForestClassifier ,AdaBoostClassifier ,GradientBoostingClassifier\n",
    "from sklearn.linear_model import LogisticRegression\n",
    "from sklearn.svm import SVC\n",
    "from sklearn.neighbors import KNeighborsClassifier\n",
    "from sklearn.tree import DecisionTreeClassifier\n",
    "from sklearn.naive_bayes  import GaussianNB\n",
    "from xgboost import XGBClassifier"
   ]
  },
  {
   "cell_type": "code",
   "execution_count": 23,
   "id": "a9986acc-5a02-4cb7-adde-fda5088e95b0",
   "metadata": {},
   "outputs": [
    {
     "name": "stdout",
     "output_type": "stream",
     "text": [
      "RandomForestClassifier Accuracy: 0.9756775538568451\n",
      "Classification Report for RandomForestClassifier:\n",
      "              precision    recall  f1-score   support\n",
      "\n",
      "           0       0.99      0.96      0.98       735\n",
      "           1       0.96      0.99      0.98       704\n",
      "\n",
      "    accuracy                           0.98      1439\n",
      "   macro avg       0.98      0.98      0.98      1439\n",
      "weighted avg       0.98      0.98      0.98      1439\n",
      "\n",
      "Confusion Matrix for RandomForestClassifier:\n",
      "[[705  30]\n",
      " [  5 699]]\n",
      "==================================================\n",
      "AdaBoostClassifier Accuracy: 0.6518415566365532\n",
      "Classification Report for AdaBoostClassifier:\n",
      "              precision    recall  f1-score   support\n",
      "\n",
      "           0       0.68      0.61      0.64       735\n",
      "           1       0.63      0.70      0.66       704\n",
      "\n",
      "    accuracy                           0.65      1439\n",
      "   macro avg       0.65      0.65      0.65      1439\n",
      "weighted avg       0.65      0.65      0.65      1439\n",
      "\n",
      "Confusion Matrix for AdaBoostClassifier:\n",
      "[[447 288]\n",
      " [213 491]]\n",
      "==================================================\n",
      "GradientBoostingClassifier Accuracy: 0.7289784572619875\n",
      "Classification Report for GradientBoostingClassifier:\n",
      "              precision    recall  f1-score   support\n",
      "\n",
      "           0       0.76      0.69      0.72       735\n",
      "           1       0.70      0.77      0.74       704\n",
      "\n",
      "    accuracy                           0.73      1439\n",
      "   macro avg       0.73      0.73      0.73      1439\n",
      "weighted avg       0.73      0.73      0.73      1439\n",
      "\n",
      "Confusion Matrix for GradientBoostingClassifier:\n",
      "[[508 227]\n",
      " [163 541]]\n",
      "==================================================\n",
      "LogisticRegression Accuracy: 0.6587908269631688\n",
      "Classification Report for LogisticRegression:\n",
      "              precision    recall  f1-score   support\n",
      "\n",
      "           0       0.67      0.65      0.66       735\n",
      "           1       0.65      0.66      0.66       704\n",
      "\n",
      "    accuracy                           0.66      1439\n",
      "   macro avg       0.66      0.66      0.66      1439\n",
      "weighted avg       0.66      0.66      0.66      1439\n",
      "\n",
      "Confusion Matrix for LogisticRegression:\n",
      "[[481 254]\n",
      " [237 467]]\n",
      "==================================================\n",
      "SVC Accuracy: 0.6831132731063239\n",
      "Classification Report for SVC:\n",
      "              precision    recall  f1-score   support\n",
      "\n",
      "           0       0.70      0.67      0.68       735\n",
      "           1       0.67      0.70      0.68       704\n",
      "\n",
      "    accuracy                           0.68      1439\n",
      "   macro avg       0.68      0.68      0.68      1439\n",
      "weighted avg       0.68      0.68      0.68      1439\n",
      "\n",
      "Confusion Matrix for SVC:\n",
      "[[493 242]\n",
      " [214 490]]\n",
      "==================================================\n",
      "KNeighborsClassifier Accuracy: 0.7873523280055594\n",
      "Classification Report for KNeighborsClassifier:\n",
      "              precision    recall  f1-score   support\n",
      "\n",
      "           0       0.90      0.66      0.76       735\n",
      "           1       0.72      0.92      0.81       704\n",
      "\n",
      "    accuracy                           0.79      1439\n",
      "   macro avg       0.81      0.79      0.78      1439\n",
      "weighted avg       0.81      0.79      0.78      1439\n",
      "\n",
      "Confusion Matrix for KNeighborsClassifier:\n",
      "[[482 253]\n",
      " [ 53 651]]\n",
      "==================================================\n",
      "DecisionTreeClassifier Accuracy: 0.9124391938846421\n",
      "Classification Report for DecisionTreeClassifier:\n",
      "              precision    recall  f1-score   support\n",
      "\n",
      "           0       1.00      0.83      0.91       735\n",
      "           1       0.85      1.00      0.92       704\n",
      "\n",
      "    accuracy                           0.91      1439\n",
      "   macro avg       0.92      0.91      0.91      1439\n",
      "weighted avg       0.92      0.91      0.91      1439\n",
      "\n",
      "Confusion Matrix for DecisionTreeClassifier:\n",
      "[[612 123]\n",
      " [  3 701]]\n",
      "==================================================\n",
      "GaussianNB Accuracy: 0.5830437804030577\n",
      "Classification Report for GaussianNB:\n",
      "              precision    recall  f1-score   support\n",
      "\n",
      "           0       0.56      0.91      0.69       735\n",
      "           1       0.72      0.24      0.36       704\n",
      "\n",
      "    accuracy                           0.58      1439\n",
      "   macro avg       0.64      0.58      0.53      1439\n",
      "weighted avg       0.64      0.58      0.53      1439\n",
      "\n",
      "Confusion Matrix for GaussianNB:\n",
      "[[668  67]\n",
      " [533 171]]\n",
      "==================================================\n",
      "XGBClassifier Accuracy: 0.906184850590688\n",
      "Classification Report for XGBClassifier:\n",
      "              precision    recall  f1-score   support\n",
      "\n",
      "           0       0.96      0.85      0.90       735\n",
      "           1       0.86      0.96      0.91       704\n",
      "\n",
      "    accuracy                           0.91      1439\n",
      "   macro avg       0.91      0.91      0.91      1439\n",
      "weighted avg       0.91      0.91      0.91      1439\n",
      "\n",
      "Confusion Matrix for XGBClassifier:\n",
      "[[625 110]\n",
      " [ 25 679]]\n",
      "==================================================\n"
     ]
    }
   ],
   "source": [
    "from sklearn.ensemble import RandomForestClassifier, AdaBoostClassifier, GradientBoostingClassifier\n",
    "from sklearn.linear_model import LogisticRegression\n",
    "from sklearn.svm import SVC\n",
    "from sklearn.neighbors import KNeighborsClassifier\n",
    "from sklearn.tree import DecisionTreeClassifier\n",
    "from sklearn.naive_bayes import GaussianNB\n",
    "from xgboost import XGBClassifier\n",
    "from sklearn.metrics import accuracy_score\n",
    "from sklearn.metrics import classification_report, confusion_matrix\n",
    "\n",
    "\n",
    "# Define a list of classifiers\n",
    "classifiers = [\n",
    "    RandomForestClassifier(),\n",
    "    AdaBoostClassifier(),\n",
    "    GradientBoostingClassifier(),\n",
    "    LogisticRegression(),\n",
    "    SVC(),\n",
    "    KNeighborsClassifier(),\n",
    "    DecisionTreeClassifier(),\n",
    "    GaussianNB(),\n",
    "    XGBClassifier()\n",
    "]\n",
    "\n",
    "# Create a dictionary to store the results\n",
    "results = {}\n",
    "\n",
    "\n",
    "# Train and evaluate each classifier\n",
    "for clf in classifiers:\n",
    "    clf_name = clf.__class__.__name__\n",
    "    clf.fit(X_train_scaled, y_train)\n",
    "    y_pred = clf.predict(X_test_scaled)\n",
    "    \n",
    "    # Calculate accuracy\n",
    "    accuracy = accuracy_score(y_test, y_pred)\n",
    "    print(f\"{clf_name} Accuracy: {accuracy}\")\n",
    "    \n",
    "    # Classification report\n",
    "    print(f\"Classification Report for {clf_name}:\")\n",
    "    print(classification_report(y_test, y_pred))\n",
    "    \n",
    "    # Confusion matrix\n",
    "    print(f\"Confusion Matrix for {clf_name}:\")\n",
    "    print(confusion_matrix(y_test, y_pred))\n",
    "    print(\"=\"*50)"
   ]
  },
  {
   "cell_type": "code",
   "execution_count": 24,
   "id": "3a74432b-393a-446b-ad88-1325c415e746",
   "metadata": {},
   "outputs": [
    {
     "data": {
      "text/html": [
       "<div>\n",
       "<style scoped>\n",
       "    .dataframe tbody tr th:only-of-type {\n",
       "        vertical-align: middle;\n",
       "    }\n",
       "\n",
       "    .dataframe tbody tr th {\n",
       "        vertical-align: top;\n",
       "    }\n",
       "\n",
       "    .dataframe thead th {\n",
       "        text-align: right;\n",
       "    }\n",
       "</style>\n",
       "<table border=\"1\" class=\"dataframe\">\n",
       "  <thead>\n",
       "    <tr style=\"text-align: right;\">\n",
       "      <th></th>\n",
       "      <th>Model</th>\n",
       "      <th>Accuracy</th>\n",
       "      <th>F1-Score</th>\n",
       "      <th>Precision</th>\n",
       "      <th>Recall</th>\n",
       "    </tr>\n",
       "  </thead>\n",
       "  <tbody>\n",
       "    <tr>\n",
       "      <th>0</th>\n",
       "      <td>RandomForestClassifier</td>\n",
       "      <td>0.972203</td>\n",
       "      <td>0.972203</td>\n",
       "      <td>0.973049</td>\n",
       "      <td>0.972203</td>\n",
       "    </tr>\n",
       "    <tr>\n",
       "      <th>1</th>\n",
       "      <td>AdaBoostClassifier</td>\n",
       "      <td>0.651842</td>\n",
       "      <td>0.651286</td>\n",
       "      <td>0.654290</td>\n",
       "      <td>0.651842</td>\n",
       "    </tr>\n",
       "    <tr>\n",
       "      <th>2</th>\n",
       "      <td>GradientBoostingClassifier</td>\n",
       "      <td>0.728978</td>\n",
       "      <td>0.728702</td>\n",
       "      <td>0.731320</td>\n",
       "      <td>0.728978</td>\n",
       "    </tr>\n",
       "    <tr>\n",
       "      <th>3</th>\n",
       "      <td>LogisticRegression</td>\n",
       "      <td>0.658791</td>\n",
       "      <td>0.658830</td>\n",
       "      <td>0.659053</td>\n",
       "      <td>0.658791</td>\n",
       "    </tr>\n",
       "    <tr>\n",
       "      <th>4</th>\n",
       "      <td>SVC</td>\n",
       "      <td>0.683113</td>\n",
       "      <td>0.683126</td>\n",
       "      <td>0.683656</td>\n",
       "      <td>0.683113</td>\n",
       "    </tr>\n",
       "    <tr>\n",
       "      <th>5</th>\n",
       "      <td>KNeighborsClassifier</td>\n",
       "      <td>0.787352</td>\n",
       "      <td>0.783833</td>\n",
       "      <td>0.812481</td>\n",
       "      <td>0.787352</td>\n",
       "    </tr>\n",
       "    <tr>\n",
       "      <th>6</th>\n",
       "      <td>DecisionTreeClassifier</td>\n",
       "      <td>0.907575</td>\n",
       "      <td>0.907028</td>\n",
       "      <td>0.920946</td>\n",
       "      <td>0.907575</td>\n",
       "    </tr>\n",
       "    <tr>\n",
       "      <th>7</th>\n",
       "      <td>GaussianNB</td>\n",
       "      <td>0.583044</td>\n",
       "      <td>0.530092</td>\n",
       "      <td>0.635597</td>\n",
       "      <td>0.583044</td>\n",
       "    </tr>\n",
       "    <tr>\n",
       "      <th>8</th>\n",
       "      <td>XGBClassifier</td>\n",
       "      <td>0.906185</td>\n",
       "      <td>0.905977</td>\n",
       "      <td>0.912148</td>\n",
       "      <td>0.906185</td>\n",
       "    </tr>\n",
       "  </tbody>\n",
       "</table>\n",
       "</div>"
      ],
      "text/plain": [
       "                        Model  Accuracy  F1-Score  Precision    Recall\n",
       "0      RandomForestClassifier  0.972203  0.972203   0.973049  0.972203\n",
       "1          AdaBoostClassifier  0.651842  0.651286   0.654290  0.651842\n",
       "2  GradientBoostingClassifier  0.728978  0.728702   0.731320  0.728978\n",
       "3          LogisticRegression  0.658791  0.658830   0.659053  0.658791\n",
       "4                         SVC  0.683113  0.683126   0.683656  0.683113\n",
       "5        KNeighborsClassifier  0.787352  0.783833   0.812481  0.787352\n",
       "6      DecisionTreeClassifier  0.907575  0.907028   0.920946  0.907575\n",
       "7                  GaussianNB  0.583044  0.530092   0.635597  0.583044\n",
       "8               XGBClassifier  0.906185  0.905977   0.912148  0.906185"
      ]
     },
     "execution_count": 24,
     "metadata": {},
     "output_type": "execute_result"
    }
   ],
   "source": [
    "import pandas as pd\n",
    "from sklearn.ensemble import RandomForestClassifier, AdaBoostClassifier, GradientBoostingClassifier\n",
    "from sklearn.linear_model import LogisticRegression\n",
    "from sklearn.svm import SVC\n",
    "from sklearn.neighbors import KNeighborsClassifier\n",
    "from sklearn.tree import DecisionTreeClassifier\n",
    "from sklearn.naive_bayes import GaussianNB\n",
    "from xgboost import XGBClassifier\n",
    "from sklearn.metrics import accuracy_score, classification_report, confusion_matrix\n",
    "\n",
    "# Define a list of classifiers\n",
    "classifiers = [\n",
    "    RandomForestClassifier(),\n",
    "    AdaBoostClassifier(),\n",
    "    GradientBoostingClassifier(),\n",
    "    LogisticRegression(),\n",
    "    SVC(),\n",
    "    KNeighborsClassifier(),\n",
    "    DecisionTreeClassifier(),\n",
    "    GaussianNB(),\n",
    "    XGBClassifier()\n",
    "]\n",
    "results={}\n",
    "# Create a DataFrame to store the results\n",
    "results_df = pd.DataFrame(columns=['Model', 'Accuracy', 'F1-Score', 'Precision', 'Recall'])\n",
    "\n",
    "# Train and evaluate each classifier\n",
    "for clf in classifiers:\n",
    "    clf_name = clf.__class__.__name__\n",
    "    clf.fit(X_train_scaled, y_train)\n",
    "    y_pred = clf.predict(X_test_scaled)\n",
    "    \n",
    "    # Calculate evaluation metrics\n",
    "    accuracy = accuracy_score(y_test, y_pred)\n",
    "    report = classification_report(y_test, y_pred, output_dict=True)\n",
    "    f1_score = report['weighted avg']['f1-score']\n",
    "    precision = report['weighted avg']['precision']\n",
    "    recall = report['weighted avg']['recall']\n",
    "    \n",
    "    # Append results to DataFrame\n",
    "    results_df = pd.concat([results_df,pd.DataFrame([{'Model': clf_name, 'Accuracy': accuracy, \n",
    "                                    'F1-Score': f1_score, \n",
    "                                    'Precision': precision,\n",
    "                                    'Recall': recall}])],\n",
    "                                    ignore_index=True)\n",
    "result_df =pd.DataFrame(results)\n",
    "results_df"
   ]
  },
  {
   "cell_type": "code",
   "execution_count": 25,
   "id": "c2074b5c-b4c5-4903-b03e-166dd5ea1119",
   "metadata": {},
   "outputs": [
    {
     "name": "stdout",
     "output_type": "stream",
     "text": [
      "Random Forest Classifier Accuracy: 0.9728978457261988\n",
      "Classification Report for Random Forest Classifier:\n",
      "              precision    recall  f1-score   support\n",
      "\n",
      "           0       0.99      0.95      0.97       735\n",
      "           1       0.95      0.99      0.97       704\n",
      "\n",
      "    accuracy                           0.97      1439\n",
      "   macro avg       0.97      0.97      0.97      1439\n",
      "weighted avg       0.97      0.97      0.97      1439\n",
      "\n",
      "Confusion Matrix for Random Forest Classifier:\n",
      "[[701  34]\n",
      " [  5 699]]\n"
     ]
    }
   ],
   "source": [
    "from sklearn.ensemble import RandomForestClassifier\n",
    "from sklearn.metrics import accuracy_score, classification_report, confusion_matrix\n",
    "\n",
    "# Instantiate the RandomForestClassifier\n",
    "rf_classifier = RandomForestClassifier()\n",
    "\n",
    "# Train the RandomForestClassifier\n",
    "rf_classifier.fit(X_train_scaled, y_train)\n",
    "\n",
    "# Predict on the test set\n",
    "y_pred_rf = rf_classifier.predict(X_test_scaled)\n",
    "\n",
    "# Calculate accuracy\n",
    "accuracy_rf = accuracy_score(y_test, y_pred_rf)\n",
    "print(\"Random Forest Classifier Accuracy:\", accuracy_rf)\n",
    "\n",
    "# Classification report\n",
    "print(\"Classification Report for Random Forest Classifier:\")\n",
    "print(classification_report(y_test, y_pred_rf))\n",
    "\n",
    "# Confusion matrix\n",
    "print(\"Confusion Matrix for Random Forest Classifier:\")\n",
    "print(confusion_matrix(y_test, y_pred_rf))"
   ]
  },
  {
   "cell_type": "markdown",
   "id": "5ea0575b-c759-426c-ae09-0ef13f910220",
   "metadata": {},
   "source": [
    "## single perdication"
   ]
  },
  {
   "cell_type": "code",
   "execution_count": 26,
   "id": "92c912ac-1791-42af-abfa-7936120258ea",
   "metadata": {},
   "outputs": [
    {
     "name": "stdout",
     "output_type": "stream",
     "text": [
      "predcted class  0\n",
      "actual class  0\n"
     ]
    }
   ],
   "source": [
    "# test 1:\n",
    "print(\"predcted class \",rf_classifier.predict(X_test_scaled[10].reshape(1,-1))[0])\n",
    "print(\"actual class \", y_test.iloc[10])"
   ]
  },
  {
   "cell_type": "code",
   "execution_count": 27,
   "id": "521292ec-87d2-46a2-ae22-964b1745e1d0",
   "metadata": {},
   "outputs": [
    {
     "name": "stdout",
     "output_type": "stream",
     "text": [
      "predcted class  1\n",
      "actual class  1\n"
     ]
    }
   ],
   "source": [
    "# test 2:\n",
    "print(\"predcted class \",rf_classifier.predict(X_test_scaled[200].reshape(1,-1))[0])\n",
    "print(\"actual class \", y_test.iloc[200])"
   ]
  },
  {
   "cell_type": "code",
   "execution_count": 28,
   "id": "47536aaf-3a36-488e-a872-3c0bc241f7d3",
   "metadata": {},
   "outputs": [
    {
     "name": "stdout",
     "output_type": "stream",
     "text": [
      "predcted class  1\n",
      "actual class  1\n"
     ]
    }
   ],
   "source": [
    "# test 3:\n",
    "print(\"predcted class \",rf_classifier.predict(X_test_scaled[110].reshape(1,-1))[0])\n",
    "print(\"actual class \", y_test.iloc[110])"
   ]
  },
  {
   "cell_type": "markdown",
   "id": "3bc3c8bc-eccb-4242-ae41-b710d6149d0d",
   "metadata": {},
   "source": [
    "## save model"
   ]
  },
  {
   "cell_type": "code",
   "execution_count": 29,
   "id": "60bc7444-0c86-4ee1-a6ff-8970c5673ca4",
   "metadata": {},
   "outputs": [],
   "source": [
    "import pickle\n",
    "pickle.dump(rf_classifier,open(\"rf_classifier.pkl\",'wb'))\n",
    "pickle.dump(scaler,open(\"scaler.pkl\",'wb'))"
   ]
  },
  {
   "cell_type": "markdown",
   "id": "34b46e2c-5a18-482e-811a-bab3522788ce",
   "metadata": {},
   "source": [
    "## load model to test1"
   ]
  },
  {
   "cell_type": "code",
   "execution_count": 30,
   "id": "b567d696-242f-4409-b975-ade7985ec29c",
   "metadata": {},
   "outputs": [],
   "source": [
    "import pickle\n",
    "\n",
    "# Load the RandomForestClassifier model\n",
    "with open(\"rf_classifier.pkl\", \"rb\") as file:\n",
    "    rf_classifier = pickle.load(file)\n",
    "\n",
    "# Load the scaler\n",
    "with open(\"scaler.pkl\", \"rb\") as file:\n",
    "    scaler = pickle.load(file)"
   ]
  },
  {
   "cell_type": "markdown",
   "id": "d081f3db-036b-4330-ae33-3dd3812b00ab",
   "metadata": {},
   "source": [
    "## predictive system"
   ]
  },
  {
   "cell_type": "code",
   "execution_count": 31,
   "id": "da52dfb2-a323-45df-bb83-1d446830d099",
   "metadata": {},
   "outputs": [],
   "source": [
    "import numpy as np\n",
    "\n",
    "def predict(rf_classifier, scaler, male, age, currentSmoker, cigsPerDay, BPMeds, prevalentStroke, prevalentHyp, diabetes, totChol, sysBP, diaBP, BMI, heartRate, glucose):\n",
    "    # Encode categorical variables\n",
    "    male_encoded = 1 if male.lower() == \"male\" else 0\n",
    "    currentSmoker_encoded = 1 if currentSmoker.lower() == \"yes\" else 0\n",
    "    BPMeds_encoded = 1 if BPMeds.lower() == \"yes\" else 0\n",
    "    prevalentStroke_encoded = 1 if prevalentStroke.lower() == \"yes\" else 0\n",
    "    prevalentHyp_encoded = 1 if prevalentHyp.lower() == \"yes\" else 0\n",
    "    diabetes_encoded = 1 if diabetes.lower() == \"yes\" else 0\n",
    "    \n",
    "    # Prepare features array\n",
    "    features = np.array([[male_encoded, age, currentSmoker_encoded, cigsPerDay, BPMeds_encoded, prevalentStroke_encoded, prevalentHyp_encoded, diabetes_encoded, totChol, sysBP, diaBP, BMI, heartRate, glucose]])\n",
    "    \n",
    "    # scalling\n",
    "    scaled_features = scaler.transform(features)\n",
    "    \n",
    "    # predict by model\n",
    "    result = rf_classifier.predict(scaled_features)\n",
    "    \n",
    "    return result[0]"
   ]
  },
  {
   "cell_type": "code",
   "execution_count": 32,
   "id": "69d00571-fcce-4dd8-8033-bf640d89e6a5",
   "metadata": {},
   "outputs": [
    {
     "name": "stdout",
     "output_type": "stream",
     "text": [
      "The Patiennt has No Heart Disease\n"
     ]
    }
   ],
   "source": [
    "# test 1:\n",
    "male = \"female\"\n",
    "age = 56.00\n",
    "currentSmoker = \"yes\"\n",
    "cigsPerDay = 3.00\n",
    "BPMeds = \"no\"\n",
    "prevalentStroke = \"no\"\n",
    "prevalentHyp = \"yes\"\n",
    "diabetes = 'no'\n",
    "totChol = 285.00\n",
    "sysBP = 145.00\n",
    "diaBP = 100.00\n",
    "BMI = 30.14\n",
    "heartRate = 80.00\n",
    "glucose = 86.00\n",
    "\n",
    "\n",
    "result = predict(rf_classifier, scaler, male, age, currentSmoker, cigsPerDay, BPMeds, prevalentStroke, prevalentHyp, diabetes, totChol, sysBP, diaBP, BMI, heartRate, glucose)\n",
    "\n",
    "\n",
    "if result == 1:\n",
    "    print(\"The Patient has Heart Disease\")\n",
    "else: \n",
    "    print(\"The Patiennt has No Heart Disease\")"
   ]
  },
  {
   "cell_type": "code",
   "execution_count": 33,
   "id": "0af4bea1-ac82-4cb2-9c34-b674b576b01d",
   "metadata": {},
   "outputs": [
    {
     "name": "stdout",
     "output_type": "stream",
     "text": [
      "The Patient has Heart Disease\n"
     ]
    }
   ],
   "source": [
    "male = 'female'\n",
    "age = 63.0\n",
    "currentSmoker = 'yes'\n",
    "cigsPerDay = 3.0\n",
    "BPMeds = 'no'\n",
    "prevalentStroke = 'no'\n",
    "prevalentHyp = 'yes'\n",
    "diabetes = 'no'\n",
    "totChol = 267.0\n",
    "sysBP = 156.5\n",
    "diaBP = 92.5\n",
    "BMI = 27.1\n",
    "heartRate = 60.0\n",
    "glucose = 79.0\n",
    "result = 1.0\n",
    "\n",
    "\n",
    "\n",
    "result = predict(rf_classifier, scaler, male, age, currentSmoker, cigsPerDay, BPMeds, prevalentStroke, prevalentHyp, diabetes, totChol, sysBP, diaBP, BMI, heartRate, glucose)\n",
    "\n",
    "\n",
    "if result == 1:\n",
    "    print(\"The Patient has Heart Disease\")\n",
    "else: \n",
    "    print(\"The Patiennt has No Heart Disease\")"
   ]
  },
  {
   "cell_type": "code",
   "execution_count": 34,
   "id": "7e95360c-5256-4e6e-81b8-e80143f61adc",
   "metadata": {},
   "outputs": [
    {
     "data": {
      "text/plain": [
       "'1.6.1'"
      ]
     },
     "execution_count": 34,
     "metadata": {},
     "output_type": "execute_result"
    }
   ],
   "source": [
    "import sklearn\n",
    "sklearn.__version__"
   ]
  }
 ],
 "metadata": {
  "kernelspec": {
   "display_name": "Python 3 (ipykernel)",
   "language": "python",
   "name": "python3"
  },
  "language_info": {
   "codemirror_mode": {
    "name": "ipython",
    "version": 3
   },
   "file_extension": ".py",
   "mimetype": "text/x-python",
   "name": "python",
   "nbconvert_exporter": "python",
   "pygments_lexer": "ipython3",
   "version": "3.13.5"
  }
 },
 "nbformat": 4,
 "nbformat_minor": 5
}
